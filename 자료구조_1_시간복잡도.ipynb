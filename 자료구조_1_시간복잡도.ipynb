{
  "nbformat": 4,
  "nbformat_minor": 0,
  "metadata": {
    "colab": {
      "name": "자료구조_1_시간복잡도.ipynb",
      "provenance": [],
      "collapsed_sections": [],
      "mount_file_id": "132gDNb07OOw1QldSKid9SyhY-BR9vDhx",
      "authorship_tag": "ABX9TyMoNYzXcpFCWMZl6EME6Qik",
      "include_colab_link": true
    },
    "kernelspec": {
      "name": "python3",
      "display_name": "Python 3"
    }
  },
  "cells": [
    {
      "cell_type": "markdown",
      "metadata": {
        "id": "view-in-github",
        "colab_type": "text"
      },
      "source": [
        "<a href=\"https://colab.research.google.com/github/sejin-sim/Data_structure/blob/master/%EC%9E%90%EB%A3%8C%EA%B5%AC%EC%A1%B0_1_%EC%8B%9C%EA%B0%84%EB%B3%B5%EC%9E%A1%EB%8F%84.ipynb\" target=\"_parent\"><img src=\"https://colab.research.google.com/assets/colab-badge.svg\" alt=\"Open In Colab\"/></a>"
      ]
    },
    {
      "cell_type": "code",
      "metadata": {
        "id": "We1Re5JPreQt",
        "colab_type": "code",
        "colab": {
          "base_uri": "https://localhost:8080/",
          "height": 52
        },
        "outputId": "b341e51e-90f0-4357-aa1a-f9331aea1d74"
      },
      "source": [
        "# 알고리즘 A\n",
        "\n",
        "# n = 1일때\n",
        "n = 1\n",
        "\n",
        "sum = n * n     # 대입 1 + 연산 1\n",
        "\n",
        "print(sum)\n",
        "\n",
        "# n = 100일때\n",
        "n = 100\n",
        "\n",
        "sum = n * n\n",
        "print(sum)\n",
        "\n",
        "# n의 개수와 관계없이 곱하기라는 행위 한번으로 계산이 끝난다.\n",
        "# n     1   2  3  100  \n",
        "# T(n)  2   2  2   2   \n",
        "\n",
        "# T(n)= 2 즉 O(1)"
      ],
      "execution_count": null,
      "outputs": [
        {
          "output_type": "stream",
          "text": [
            "1\n",
            "10000\n"
          ],
          "name": "stdout"
        }
      ]
    },
    {
      "cell_type": "code",
      "metadata": {
        "id": "LXEwYA7us37Q",
        "colab_type": "code",
        "colab": {
          "base_uri": "https://localhost:8080/",
          "height": 52
        },
        "outputId": "bffd66f9-19b1-445e-fedf-504965ffa1a5"
      },
      "source": [
        "# 알고리즘 B\n",
        "\n",
        "# n = 1일때\n",
        "n = 1\n",
        "k = 0\n",
        "\n",
        "sum = 0                  # 대입 1 \n",
        "for i in range(1, n+1):\n",
        "  sum += n               # 대입 n + 연산 n\n",
        "\n",
        "\n",
        "  k += 1                 # 연산 횟수 test를 위해\n",
        "\n",
        "print(\"sum : {}, k : {}\".format(sum, k))\n",
        "\n",
        "# n = 100일때\n",
        "n = 100\n",
        "k = 0\n",
        "\n",
        "sum = 0\n",
        "for i in range(1, n+1):\n",
        "  sum += n\n",
        "  k += 1 # 연산 횟수 test를 위해\n",
        "\n",
        "print(\"sum : {}, k : {}\".format(sum, k))\n",
        "\n",
        "# n의 갯수만큼 돌아간다.\n",
        "# n     1    100  \n",
        "# k     1    100\n",
        "# T(n)    2n+1   \n",
        "\n",
        "# T(n)= 2n+1, 즉 O(n)"
      ],
      "execution_count": null,
      "outputs": [
        {
          "output_type": "stream",
          "text": [
            "sum : 1, k : 1\n",
            "sum : 10000, k : 100\n"
          ],
          "name": "stdout"
        }
      ]
    },
    {
      "cell_type": "code",
      "metadata": {
        "id": "R7K8x96auOkY",
        "colab_type": "code",
        "colab": {
          "base_uri": "https://localhost:8080/",
          "height": 52
        },
        "outputId": "25430ca1-b797-473c-ebbc-e098f62e5b2e"
      },
      "source": [
        "# 알고리즘 C\n",
        "\n",
        "# n = 1일때\n",
        "n = 1\n",
        "k = 0\n",
        "\n",
        "sum = 0                        # 대입 1\n",
        "for i in range(1, n+1):\n",
        "  for j in range(1, n+1):\n",
        "    sum += n                   # 대입 n^2 + 연산 n^2\n",
        "    k += 1                     # 연산 횟수 test를 위해\n",
        "\n",
        "print(\"sum : {}, k : {}\".format(sum, k))\n",
        "\n",
        "# n = 100일때\n",
        "n = 100\n",
        "k = 0\n",
        "\n",
        "sum = 0\n",
        "for i in range(1, n+1):\n",
        "  for j in range(1, n+1):\n",
        "    sum += n\n",
        "    k += 1                      # 연산 횟수 test를 위해\n",
        "\n",
        "print(\"sum : {}, k : {}\".format(sum, k))\n",
        "\n",
        "# n^2의 갯수만큼 돌아간다\n",
        "# n     1   100  \n",
        "# k     1   10000 = 100^2\n",
        "# T(n)    1 + n^2 + n^2 = 2n^2 +1   \n",
        "\n",
        "# T(n)= 2n^2+1, 즉 O(n^2)"
      ],
      "execution_count": null,
      "outputs": [
        {
          "output_type": "stream",
          "text": [
            "sum : 1, k : 1\n",
            "sum : 1000000, k : 10000\n"
          ],
          "name": "stdout"
        }
      ]
    },
    {
      "cell_type": "code",
      "metadata": {
        "id": "YzeS2V9iwz7Z",
        "colab_type": "code",
        "colab": {
          "base_uri": "https://localhost:8080/",
          "height": 278
        },
        "outputId": "ef50a410-cc1a-4c71-8759-7c5bfabf0ec0"
      },
      "source": [
        "# 그래프로 그리기\n",
        "from matplotlib import pyplot as plt\n",
        "\n",
        "x = range(4)\n",
        "A_values = [2 for n in x]\n",
        "B_values = [(2*n)+1 for n in x]\n",
        "C_values = [(2*n**2)+1 for n in x]\n",
        "\n",
        "plt.plot(x, A_values, 'g')\n",
        "plt.plot(x, B_values, 'r')\n",
        "plt.plot(x, C_values)\n",
        "\n",
        "plt.legend(['A = 2', 'B = 2n+1', 'C = 2n^2+1'])\n",
        "plt.xlabel('T(n)')\n",
        "plt.ylabel('n')\n",
        "plt.show()"
      ],
      "execution_count": null,
      "outputs": [
        {
          "output_type": "display_data",
          "data": {
            "image/png": "[encoded data removed]",
            "text/plain": [
              "<Figure size 432x288 with 1 Axes>"
            ]
          },
          "metadata": {
            "tags": [],
            "needs_background": "light"
          }
        }
      ]
    }
  ]
}
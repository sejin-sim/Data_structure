{
  "nbformat": 4,
  "nbformat_minor": 0,
  "metadata": {
    "colab": {
      "name": "자료구조_2_클래스.ipynb",
      "provenance": [],
      "collapsed_sections": [],
      "authorship_tag": "ABX9TyN5rxyM2OHvOE4iFf9DD2wO",
      "include_colab_link": true
    },
    "kernelspec": {
      "name": "python3",
      "display_name": "Python 3"
    }
  },
  "cells": [
    {
      "cell_type": "markdown",
      "metadata": {
        "id": "view-in-github",
        "colab_type": "text"
      },
      "source": [
        "<a href=\"https://colab.research.google.com/github/sejin-sim/Data_structure/blob/master/%EC%9E%90%EB%A3%8C%EA%B5%AC%EC%A1%B0_2_%ED%81%B4%EB%9E%98%EC%8A%A4.ipynb\" target=\"_parent\"><img src=\"https://colab.research.google.com/assets/colab-badge.svg\" alt=\"Open In Colab\"/></a>"
      ]
    },
    {
      "cell_type": "code",
      "metadata": {
        "id": "ZFJw4Y-nYCmQ",
        "colab_type": "code",
        "colab": {
          "base_uri": "https://localhost:8080/",
          "height": 334
        },
        "outputId": "71fccd54-b87c-41c4-c95d-b0aa0661f2c7"
      },
      "source": [
        "from copy import copy\n",
        "\n",
        "class Polynomial():\n",
        "\n",
        "  def read(self):\n",
        "    self.degree = 0\n",
        "    self.coef = []\n",
        "    self.degree = int(input(\"다항식의 최고 차수를 입력하시오 : \"))\n",
        "    print(\"각 항의 계수를 입혁하시오 (총 {}개)\".format(self.degree+1))\n",
        "    for i in range(0, self.degree+1):\n",
        "      self.coef.append(int(input()))\n",
        "  \n",
        "  def display(self, str):\n",
        "    print(\"\\t\",str, end='')\n",
        "    for i in range(0, self.degree):\n",
        "      print(\"{}x^{}+\".format(self.coef[i], self.degree-i),end='')\n",
        "    print(\"{}\\n\".format(self.coef[self.degree]))\n",
        "\n",
        "  def add(self, a, b):\n",
        "    if a.degree > b.degree :\n",
        "      self.degree = copy(a.degree)\n",
        "      self.coef = copy(a.coef)\n",
        "      for i in range(0, b.degree+1):\n",
        "        self.coef[i+(a.degree-b.degree)] += b.coef[i]\n",
        "    else:\n",
        "      self.degree = copy(b.degree)\n",
        "      self.coef = copy(b.coef)\n",
        "      for i in range(0, a.degree+1):\n",
        "        self.coef[i+(b.degree-a.degree)] += a.coef[i]\n",
        "\n",
        "a = Polynomial()\n",
        "b = Polynomial()\n",
        "c = Polynomial()\n",
        "\n",
        "a.read()\n",
        "b.read()\n",
        "c.add(a,b)\n",
        "\n",
        "a.display(\"A = \")\n",
        "b.display(\"B = \")\n",
        "c.display(\"A + B = \")"
      ],
      "execution_count": null,
      "outputs": [
        {
          "output_type": "stream",
          "text": [
            "다항식의 최고 차수를 입력하시오 : 3\n",
            "각 항의 계수를 입혁하시오 (총 4개)\n",
            "4\n",
            "3\n",
            "2\n",
            "1\n",
            "다항식의 최고 차수를 입력하시오 : 3\n",
            "각 항의 계수를 입혁하시오 (총 4개)\n",
            "4\n",
            "0\n",
            "0\n",
            "1\n",
            "\t A = 4x^3+3x^2+2x^1+1\n",
            "\n",
            "\t B = 4x^3+0x^2+0x^1+1\n",
            "\n",
            "\t A + B = 8x^3+3x^2+2x^1+2\n",
            "\n"
          ],
          "name": "stdout"
        }
      ]
    },
    {
      "cell_type": "code",
      "metadata": {
        "id": "u3BrR8kYMuqT",
        "colab_type": "code",
        "colab": {
          "base_uri": "https://localhost:8080/",
          "height": 70
        },
        "outputId": "f2b44ddf-5511-4e38-e3bb-ce08eabee16b"
      },
      "source": [
        "print(\"다항식 A의 계수 배열\", a.coef)\n",
        "print(\"다항식 B의 계수 배열\", b.coef)\n",
        "print(\"다항식 C의 계수 배열\", c.coef)"
      ],
      "execution_count": null,
      "outputs": [
        {
          "output_type": "stream",
          "text": [
            "다항식 A의 계수 배열 [4, 3, 2, 1]\n",
            "다항식 B의 계수 배열 [4, 0, 0, 1]\n",
            "다항식 C의 계수 배열 [8, 3, 2, 2]\n"
          ],
          "name": "stdout"
        }
      ]
    },
    {
      "cell_type": "code",
      "metadata": {
        "id": "AE7-6zwvg8rS",
        "colab_type": "code",
        "colab": {
          "base_uri": "https://localhost:8080/",
          "height": 336
        },
        "outputId": "2c132963-c8a6-4dea-fe65-7fdd9ff3f0dc"
      },
      "source": [
        "from copy import copy\n",
        "\n",
        "class SparsePoly():\n",
        "  def read(self):\n",
        "    self.expo = []\n",
        "    self.coef = []\n",
        "    self.degree = int(input(\"다항식의 최고 차수를 입력하시오 : \"))\n",
        "    num = copy(self.degree)\n",
        "    print(\"각 항의 계수를 입혁하시오 (총 {}개)\".format(self.degree+1))\n",
        "    while num >= 0:\n",
        "      tmp = int(input())\n",
        "      if tmp != 0 :\n",
        "        self.expo.append(num)\n",
        "        self.coef.append(tmp)\n",
        "      num -= 1\n",
        "  \n",
        "  def display(self, str):\n",
        "    print(\"\\t\",str, end='')\n",
        "    if self.expo[-1]==0 :\n",
        "      for i in range(0, len(self.expo)-1):\n",
        "        print(\"{}x^{}+\".format(self.coef[i], self.expo[i]),end='')\n",
        "      print(\"{}\\n\".format(self.coef[-1]))\n",
        "    else:\n",
        "      for i in range(0, len(self.expo)):\n",
        "        print(\"{}x^{}+\".format(self.coef[i], self.expo[i]),end='')      \n",
        "\n",
        "  def add(self, a, b):\n",
        "    self.expo = []\n",
        "    self.coef = []\n",
        "    # self.degree = copy(max(a.degree, b.degree))\n",
        "    num = copy(max(a.degree, b.degree))\n",
        "    while num >= 0:\n",
        "      if (num in a.expo) and (num in b.expo):\n",
        "        self.expo.append(num)\n",
        "        self.coef.append(a.coef[(a.expo.index(num))]+b.coef[(b.expo.index(num))])\n",
        "      elif num in a.expo:\n",
        "        self.expo.append(num)\n",
        "        self.coef.append(a.coef[(a.expo.index(num))])\n",
        "      elif num in  b.expo:\n",
        "        self.expo.append(num)\n",
        "        self.coef.append(b.coef[(b.expo.index(num))])\n",
        "      num -= 1\n",
        "      \n",
        "a = SparsePoly()\n",
        "b = SparsePoly()\n",
        "c = SparsePoly()\n",
        "\n",
        "a.read()\n",
        "b.read()\n",
        "c.add(a,b)\n",
        "\n",
        "a.display(\"A = \")\n",
        "b.display(\"B = \")\n",
        "c.display(\"A + B = \")"
      ],
      "execution_count": 9,
      "outputs": [
        {
          "output_type": "stream",
          "text": [
            "다항식의 최고 차수를 입력하시오 : 3\n",
            "각 항의 계수를 입혁하시오 (총 4개)\n",
            "4\n",
            "3\n",
            "2\n",
            "1\n",
            "다항식의 최고 차수를 입력하시오 : 3\n",
            "각 항의 계수를 입혁하시오 (총 4개)\n",
            "40\n",
            "0\n",
            "0\n",
            "1\n",
            "\t A = 4x^3+3x^2+2x^1+1\n",
            "\n",
            "\t B = 40x^3+1\n",
            "\n",
            "\t A + B = 44x^3+3x^2+2x^1+2\n",
            "\n"
          ],
          "name": "stdout"
        }
      ]
    },
    {
      "cell_type": "code",
      "metadata": {
        "id": "i20hGL7ONTs1",
        "colab_type": "code",
        "colab": {
          "base_uri": "https://localhost:8080/",
          "height": 123
        },
        "outputId": "06ebb2ce-03fe-48aa-c3ec-92443a8bd253"
      },
      "source": [
        "print(\"희소다항식 A의 계수 배열\", a.coef)\n",
        "print(\"희소다항식 A의 지수 배열\", a.expo)\n",
        "print(\"희소다항식 B의 계수 배열\", b.coef)\n",
        "print(\"희소다항식 B의 지수 배열\", b.expo)\n",
        "print(\"희소다항식 C의 계수 배열\", c.coef)\n",
        "print(\"희소다항식 C의 지수 배열\", c.expo)"
      ],
      "execution_count": 10,
      "outputs": [
        {
          "output_type": "stream",
          "text": [
            "희소다항식 A의 계수 배열 [4, 3, 2, 1]\n",
            "희소다항식 A의 지수 배열 [3, 2, 1, 0]\n",
            "희소다항식 B의 계수 배열 [40, 1]\n",
            "희소다항식 B의 지수 배열 [3, 0]\n",
            "희소다항식 C의 계수 배열 [44, 3, 2, 2]\n",
            "희소다항식 C의 지수 배열 [3, 2, 1, 0]\n"
          ],
          "name": "stdout"
        }
      ]
    }
  ]
}
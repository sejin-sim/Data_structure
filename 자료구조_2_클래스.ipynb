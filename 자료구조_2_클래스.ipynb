{
  "nbformat": 4,
  "nbformat_minor": 0,
  "metadata": {
    "colab": {
      "name": "자료구조_2_클래스.ipynb",
      "provenance": [],
      "collapsed_sections": [],
      "authorship_tag": "ABX9TyPchMjXlx/b4ONnyxpLNWWQ",
      "include_colab_link": true
    },
    "kernelspec": {
      "name": "python3",
      "display_name": "Python 3"
    }
  },
  "cells": [
    {
      "cell_type": "markdown",
      "metadata": {
        "id": "view-in-github",
        "colab_type": "text"
      },
      "source": [
        "<a href=\"https://colab.research.google.com/github/sejin-sim/Data_structure/blob/master/%EC%9E%90%EB%A3%8C%EA%B5%AC%EC%A1%B0_2_%ED%81%B4%EB%9E%98%EC%8A%A4.ipynb\" target=\"_parent\"><img src=\"https://colab.research.google.com/assets/colab-badge.svg\" alt=\"Open In Colab\"/></a>"
      ]
    },
    {
      "cell_type": "code",
      "metadata": {
        "id": "ZFJw4Y-nYCmQ",
        "colab_type": "code",
        "colab": {
          "base_uri": "https://localhost:8080/",
          "height": 334
        },
        "outputId": "9535f693-4da5-47e4-aa2a-3c89ec9fb7b2"
      },
      "source": [
        "from copy import copy\n",
        "\n",
        "class Polynomial():\n",
        "\n",
        "  def read(self):\n",
        "    self.degree = 0\n",
        "    self.coef = []\n",
        "    self.degree = int(input(\"다항식의 최고 차수를 입력하시오 : \"))\n",
        "    print(\"각 항의 계수를 입혁하시오 (총 {}개)\".format(self.degree+1))\n",
        "    for i in range(0, self.degree+1):\n",
        "      self.coef.append(float(input()))\n",
        "  \n",
        "  def display(self, str):\n",
        "    print(\"\\t\",str, end='')\n",
        "    for i in range(0, self.degree):\n",
        "      print(\"{:5.1f}x^{}+\".format(self.coef[i], self.degree-i),end='')\n",
        "    print(\"{:5.1f}\\n\".format(self.coef[self.degree]))\n",
        "\n",
        "  def add(self, a, b):\n",
        "    if a.degree > b.degree :\n",
        "      self.degree = copy(a.degree)\n",
        "      self.coef = copy(a.coef)\n",
        "      for i in range(0, b.degree+1):\n",
        "        self.coef[i+(a.degree-b.degree)] += b.coef[i]\n",
        "    else:\n",
        "      self.degree = copy(b.degree)\n",
        "      self.coef = copy(b.coef)\n",
        "      for i in range(0, a.degree+1):\n",
        "        self.coef[i+(b.degree-a.degree)] += a.coef[i]\n",
        "\n",
        "a = Polynomial()\n",
        "b = Polynomial()\n",
        "c = Polynomial()\n",
        "\n",
        "a.read()\n",
        "b.read()\n",
        "c.add(a,b)\n",
        "\n",
        "a.display(\"A = \")\n",
        "b.display(\"B = \")\n",
        "c.display(\"A + B = \")"
      ],
      "execution_count": 23,
      "outputs": [
        {
          "output_type": "stream",
          "text": [
            "다항식의 최고 차수를 입력하시오 : 3\n",
            "각 항의 계수를 입혁하시오 (총 4개)\n",
            "4\n",
            "3\n",
            "2\n",
            "1\n",
            "다항식의 최고 차수를 입력하시오 : 3\n",
            "각 항의 계수를 입혁하시오 (총 4개)\n",
            "4\n",
            "2\n",
            "1\n",
            "0\n",
            "\t A =   4.0x^3+  3.0x^2+  2.0x^1+  1.0\n",
            "\n",
            "\t B =   4.0x^3+  2.0x^2+  1.0x^1+  0.0\n",
            "\n",
            "\t A + B =   8.0x^3+  5.0x^2+  3.0x^1+  1.0\n",
            "\n"
          ],
          "name": "stdout"
        }
      ]
    },
    {
      "cell_type": "code",
      "metadata": {
        "id": "u3BrR8kYMuqT",
        "colab_type": "code",
        "colab": {
          "base_uri": "https://localhost:8080/",
          "height": 70
        },
        "outputId": "41c673b6-91df-4aeb-beb0-d0c2bd4c3ba4"
      },
      "source": [
        "print(\"다항식 A의 계수 배열\", a.coef)\n",
        "print(\"다항식 B의 계수 배열\", b.coef)\n",
        "print(\"다항식 C의 계수 배열\", c.coef)"
      ],
      "execution_count": 24,
      "outputs": [
        {
          "output_type": "stream",
          "text": [
            "다항식 A의 계수 배열 [4.0, 3.0, 2.0, 1.0]\n",
            "다항식 B의 계수 배열 [4.0, 2.0, 1.0, 0.0]\n",
            "다항식 C의 계수 배열 [8.0, 5.0, 3.0, 1.0]\n"
          ],
          "name": "stdout"
        }
      ]
    },
    {
      "cell_type": "code",
      "metadata": {
        "id": "AE7-6zwvg8rS",
        "colab_type": "code",
        "colab": {
          "base_uri": "https://localhost:8080/",
          "height": 334
        },
        "outputId": "ffc31d23-ee9f-40b5-efa1-b9dc2c141e52"
      },
      "source": [
        "from copy import copy\n",
        "\n",
        "class SparsePoly():\n",
        "  def read(self):\n",
        "    self.expo = []\n",
        "    self.coef = []\n",
        "    self.degree = int(input(\"다항식의 최고 차수를 입력하시오 : \"))\n",
        "    num = copy(self.degree)\n",
        "    print(\"각 항의 계수를 입혁하시오 (총 {}개)\".format(self.degree+1))\n",
        "    while num >= 0:\n",
        "      tmp = float(input())\n",
        "      if tmp != 0 :\n",
        "        self.expo.append(num)\n",
        "        self.coef.append(tmp)\n",
        "      num -= 1\n",
        "  \n",
        "  def display(self, str):\n",
        "    print(\"\\t\",str,  end='')\n",
        "    if self.expo[-1]==0 :\n",
        "      for i in range(0, len(self.expo)-1):\n",
        "        print(\"{:5.1f}x^{}+\".format(self.coef[i], self.expo[i]),end='')\n",
        "      print(\"{:5.1f}\\n\".format(self.coef[-1]))\n",
        "    else:\n",
        "      for i in range(0, len(self.expo)):\n",
        "        print(\"{:5.1f}x^{}+\".format(self.coef[i], self.expo[i]),end='')\n",
        "      print(\"\\n\")\n",
        "\n",
        "  def add(self, a, b):\n",
        "    self.expo = []\n",
        "    self.coef = []\n",
        "    # self.degree = copy(max(a.degree, b.degree))\n",
        "    num = copy(max(a.degree, b.degree))\n",
        "    while num >= 0:\n",
        "      if (num in a.expo) and (num in b.expo):\n",
        "        self.expo.append(num)\n",
        "        self.coef.append(a.coef[(a.expo.index(num))]+b.coef[(b.expo.index(num))])\n",
        "      elif num in a.expo:\n",
        "        self.expo.append(num)\n",
        "        self.coef.append(a.coef[(a.expo.index(num))])\n",
        "      elif num in  b.expo:\n",
        "        self.expo.append(num)\n",
        "        self.coef.append(b.coef[(b.expo.index(num))])\n",
        "      num -= 1\n",
        "      \n",
        "a = SparsePoly()\n",
        "b = SparsePoly()\n",
        "c = SparsePoly()\n",
        "\n",
        "a.read()\n",
        "b.read()\n",
        "c.add(a,b)\n",
        "\n",
        "a.display(\"A = \")\n",
        "b.display(\"B = \")\n",
        "c.display(\"A + B = \")"
      ],
      "execution_count": 21,
      "outputs": [
        {
          "output_type": "stream",
          "text": [
            "다항식의 최고 차수를 입력하시오 : 3\n",
            "각 항의 계수를 입혁하시오 (총 4개)\n",
            "4\n",
            "3\n",
            "2\n",
            "1\n",
            "다항식의 최고 차수를 입력하시오 : 3\n",
            "각 항의 계수를 입혁하시오 (총 4개)\n",
            "4\n",
            "3\n",
            "2\n",
            "0\n",
            "\t A =   4.0x^3+  3.0x^2+  2.0x^1+  1.0\n",
            "\n",
            "\t B =   4.0x^3+  3.0x^2+  2.0x^1+\n",
            "\n",
            "\t A + B =   8.0x^3+  6.0x^2+  4.0x^1+  1.0\n",
            "\n"
          ],
          "name": "stdout"
        }
      ]
    },
    {
      "cell_type": "code",
      "metadata": {
        "id": "i20hGL7ONTs1",
        "colab_type": "code",
        "colab": {
          "base_uri": "https://localhost:8080/",
          "height": 122
        },
        "outputId": "59d28c81-f2c5-4e95-b9ae-5e79b10ff227"
      },
      "source": [
        "print(\"희소다항식 A의 계수 배열\", a.coef)\n",
        "print(\"희소다항식 A의 지수 배열\", a.expo)\n",
        "print(\"희소다항식 B의 계수 배열\", b.coef)\n",
        "print(\"희소다항식 B의 지수 배열\", b.expo)\n",
        "print(\"희소다항식 C의 계수 배열\", c.coef)\n",
        "print(\"희소다항식 C의 지수 배열\", c.expo)"
      ],
      "execution_count": 22,
      "outputs": [
        {
          "output_type": "stream",
          "text": [
            "희소다항식 A의 계수 배열 [4.0, 3.0, 2.0, 1.0]\n",
            "희소다항식 A의 지수 배열 [3, 2, 1, 0]\n",
            "희소다항식 B의 계수 배열 [4.0, 3.0, 2.0]\n",
            "희소다항식 B의 지수 배열 [3, 2, 1]\n",
            "희소다항식 C의 계수 배열 [8.0, 6.0, 4.0, 1.0]\n",
            "희소다항식 C의 지수 배열 [3, 2, 1, 0]\n"
          ],
          "name": "stdout"
        }
      ]
    }
  ]
}

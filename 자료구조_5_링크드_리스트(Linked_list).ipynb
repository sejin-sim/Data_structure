{
  "nbformat": 4,
  "nbformat_minor": 0,
  "metadata": {
    "colab": {
      "name": "자료구조_5_링크드 리스트(Linked_list).ipynb",
      "provenance": [],
      "collapsed_sections": [],
      "authorship_tag": "ABX9TyNCxQieAA9d7yCr1YvgnnO0",
      "include_colab_link": true
    },
    "kernelspec": {
      "name": "python3",
      "display_name": "Python 3"
    }
  },
  "cells": [
    {
      "cell_type": "markdown",
      "metadata": {
        "id": "view-in-github",
        "colab_type": "text"
      },
      "source": [
        "<a href=\"https://colab.research.google.com/github/sejin-sim/Data_structure/blob/master/%EC%9E%90%EB%A3%8C%EA%B5%AC%EC%A1%B0_5_%EB%A7%81%ED%81%AC%EB%93%9C_%EB%A6%AC%EC%8A%A4%ED%8A%B8(Linked_list).ipynb\" target=\"_parent\"><img src=\"https://colab.research.google.com/assets/colab-badge.svg\" alt=\"Open In Colab\"/></a>"
      ]
    },
    {
      "cell_type": "code",
      "metadata": {
        "id": "ovgjW_ndn788",
        "outputId": "a804ba04-baab-44ca-df0e-e8e12bc6864b",
        "colab": {
          "base_uri": "https://localhost:8080/",
          "height": 106
        }
      },
      "source": [
        "# 2차원 배열코드 동적 할당/해제\n",
        "import random\n",
        "\n",
        "def alloc2DInt(rows, cols):\n",
        "  if rows <=0 or cols <=0:\n",
        "    return None\n",
        "  else:\n",
        "    mat = []\n",
        "    for i in range(rows):\n",
        "      tmp = []\n",
        "      for j in range(cols):\n",
        "        tmp.append(0)\n",
        "      mat.append(tmp)\n",
        "    # for i in range(rows):\n",
        "    #   mat.append([0 for j in range(cols)])\n",
        "    return mat\n",
        "\n",
        "def set2DRandom(mat, rows, cols):\n",
        "  for i in range(rows):\n",
        "    for j in range(cols):\n",
        "      mat[i][j] = random.randrange(0, 100)\n",
        "\n",
        "def print2DInt(mat, rows, cols):\n",
        "  print(\"행의 수 = {}, 열의 수 = {}\".format(rows, cols))\n",
        "  for i in range(rows):\n",
        "    for j in range(cols):\n",
        "      print(\"{:4d}\".format(mat[i][j]),end=\" \")\n",
        "    print()\n",
        "\n",
        "def free2DInt(mat, rows, cols):\n",
        "  if mat != None:\n",
        "    for i in range(rows):\n",
        "      del mat[i][:cols]\n",
        "    del mat\n",
        "\n",
        "rows, cols = input(\"행과 열의 크기를 입력하시오: \").split()\n",
        "rows = int(rows)\n",
        "cols = int(cols)\n",
        "mat = alloc2DInt(rows, cols)\n",
        "set2DRandom(mat, rows, cols)\n",
        "print2DInt(mat, rows, cols)\n",
        "free2DInt(mat, rows, cols)"
      ],
      "execution_count": null,
      "outputs": [
        {
          "output_type": "stream",
          "text": [
            "행과 열의 크기를 입력하시오: 3 6\n",
            "행의 수 = 3, 열의 수 = 6\n",
            "  89   79   10    8   95   21 \n",
            "  47   90   65   62    3   33 \n",
            "  90   68   65   77   54   52 \n"
          ],
          "name": "stdout"
        }
      ]
    },
    {
      "cell_type": "code",
      "metadata": {
        "id": "TU_TxbgYMRRl",
        "outputId": "4a3c5f09-4fa1-4e10-90cc-2a0599bdc423",
        "colab": {
          "base_uri": "https://localhost:8080/",
          "height": 52
        }
      },
      "source": [
        "# LinkedList_Stack\n",
        "\n",
        "class Node:\n",
        "  def __init__(self, data):\n",
        "    self.data = data\n",
        "    self.next = None\n",
        "        \n",
        "class LinkedList_stack: \n",
        "  def __init__(self):\n",
        "    self.head = None\n",
        "        \n",
        "  def is_empty(self):\n",
        "      if not self.head:\n",
        "        return True\n",
        "      return False\n",
        "        \n",
        "  def push(self, data):\n",
        "    new_node = Node(data)\n",
        "    new_node.next = self.head\n",
        "    self.head = new_node\n",
        "    \n",
        "  def pop(self):\n",
        "    if self.is_empty():\n",
        "      return None      \n",
        "    ret_data = self.head.data\n",
        "    self.head = self.head.next\n",
        "    return ret_data\n",
        "\n",
        "  def display(self):\n",
        "        current = self.head\n",
        "        print(\"[스택 내용] : < {}>\".format(current.data),end=' ')\n",
        "        while current.next!=None:\n",
        "            print(\"< {}>\".format(current.next.data),end=' ')\n",
        "            current = current.next\n",
        "        print()\n",
        "\n",
        "link_stack = LinkedList_stack()\n",
        "for i in range(1, 10):\n",
        "  link_stack.push(i)\n",
        "link_stack.display()\n",
        "link_stack.pop()\n",
        "link_stack.pop()\n",
        "link_stack.pop()\n",
        "link_stack.display()"
      ],
      "execution_count": null,
      "outputs": [
        {
          "output_type": "stream",
          "text": [
            "[스택 내용] : < 9> < 8> < 7> < 6> < 5> < 4> < 3> < 2> < 1> \n",
            "[스택 내용] : < 6> < 5> < 4> < 3> < 2> < 1> \n"
          ],
          "name": "stdout"
        }
      ]
    },
    {
      "cell_type": "code",
      "metadata": {
        "id": "QpVUZs6xiE3W",
        "outputId": "6c8154f4-451d-4ffa-aba1-78df5ad9bf8e",
        "colab": {
          "base_uri": "https://localhost:8080/",
          "height": 52
        }
      },
      "source": [
        "# LinkedList_Queue\n",
        "\n",
        "class Node:\n",
        "    def __init__(self,data):\n",
        "        self.data = data\n",
        "        self.next = None\n",
        "\n",
        "class LinkedList_queue():\n",
        "    def __init__(self):\n",
        "        self.front = None\n",
        "        self.rear = None\n",
        "        self.NumOfData = 0\n",
        "        \n",
        "    def enqueue(self,data):\n",
        "        insertNode = Node(data)\n",
        "        if self.NumOfData == 0:\n",
        "          self.front = insertNode\n",
        "          self.rear = insertNode\n",
        "          self.NumOfData += 1\n",
        "        else:\n",
        "          self.rear.next = insertNode\n",
        "          self.rear = self.rear.next\n",
        "          self.NumOfData += 1\n",
        "\n",
        "    def is_empty(self):\n",
        "      if self.rear == None:\n",
        "        return True\n",
        "      else:\n",
        "        return False\n",
        "\n",
        "    def dequeue(self):\n",
        "        if self.is_empty():\n",
        "            return False\n",
        "        else:\n",
        "            delete_node = self.front.data\n",
        "            self.front = self.front.next\n",
        "            self.NumOfData -= 1\n",
        "            return delete_node\n",
        "\n",
        "    def display(self):\n",
        "        current = self.front\n",
        "        if self.NumOfData == 0:\n",
        "            print(\"List is empty!\")\n",
        "            return None\n",
        "        print(\"[스택 내용] : < {}>\".format(current.data),end=' ')\n",
        "        while current.next!=None:\n",
        "            print(\"< {}>\".format(current.next.data),end=' ')\n",
        "            current = current.next\n",
        "        print()\n",
        "\n",
        "link_que = LinkedList_queue()\n",
        "for i in range(1, 10):\n",
        "  link_que.enqueue(i)\n",
        "link_que.display()\n",
        "link_que.dequeue()\n",
        "link_que.dequeue()\n",
        "link_que.dequeue()\n",
        "link_que.display()"
      ],
      "execution_count": null,
      "outputs": [
        {
          "output_type": "stream",
          "text": [
            "[스택 내용] : < 1> < 2> < 3> < 4> < 5> < 6> < 7> < 8> < 9> \n",
            "[스택 내용] : < 4> < 5> < 6> < 7> < 8> < 9> \n"
          ],
          "name": "stdout"
        }
      ]
    },
    {
      "cell_type": "code",
      "metadata": {
        "id": "7V3PoEV-7MqZ",
        "outputId": "eea529e1-e8b2-456e-f1c5-76960f254891",
        "colab": {
          "base_uri": "https://localhost:8080/",
          "height": 106
        }
      },
      "source": [
        "# LinkedList_classic\n",
        "class Node:\n",
        "    def __init__(self,data):\n",
        "        self.data = data\n",
        "        self.next = None\n",
        "\n",
        "class LinkedList(Node):\n",
        "    def __init__(self):\n",
        "        HeadNode = Node(\"HEAD\")\n",
        "        self.head = HeadNode\n",
        "        self.tail = HeadNode\n",
        "        self.NumOfData = 0\n",
        "        \n",
        "    def insert(self,data):\n",
        "        insertNode = Node(data)\n",
        "        self.tail.next = insertNode\n",
        "        self.tail = insertNode\n",
        "        self.NumOfData += 1\n",
        "\n",
        "    def is_empty(self):\n",
        "      if self.tail.data == \"HEAD\":\n",
        "        return True\n",
        "      else:\n",
        "        return False\n",
        "\n",
        "    def delete(self):\n",
        "        if self.NumOfData == 0:\n",
        "            print(\"List is empty!\")\n",
        "            return False\n",
        "        elif self.NumOfData == 1:\n",
        "            delete_node = self.head.next\n",
        "            self.head.next = None\n",
        "            self.tail = self.head\n",
        "            self.NumOfData -= 1\n",
        "            print(\"리스트에서\",delete_node.data,\"데이터를 삭제하였습니다.\")\n",
        "            return delete_node.data\n",
        "        else:\n",
        "            delete_node = self.head.next\n",
        "            self.head.next = self.head.next.next\n",
        "            self.NumOfData -= 1\n",
        "            print(\"리스트에서 \",delete_node.data,\"데이터를 삭제하였습니다.\")\n",
        "            return delete_node.data\n",
        "            \n",
        "    def search(self,data):\n",
        "        check = self.head\n",
        "        for i in range(self.NumOfData):\n",
        "            if check.next.data == data:\n",
        "                print(data,\"데이터는\",i+1,\"번째에 있습니다.\")\n",
        "                return None\n",
        "            check = check.next\n",
        "        print(data,\"데이터는 리스트에 없습니다.\")\n",
        "        return None\n",
        "        \n",
        "    def listNum(self):\n",
        "        print(\"현재 리스트에는\",self.NumOfData,\"개의 요소가 있습니다.\")\n",
        "        return self.NumOfData\n",
        "    \n",
        "    def printList(self):\n",
        "        current = self.head\n",
        "        if self.NumOfData == 0:\n",
        "            print(\"List is empty!\")\n",
        "            return None\n",
        "        print(\"HEAD::\",end='')\n",
        "        for i in range(self.NumOfData-1):\n",
        "            print(\"<{}>\".format(current.next.data),end=' ')\n",
        "            current = current.next\n",
        "        print(\"<{}>\".format(current.next.data))\n",
        "\n",
        "link = LinkedList()\n",
        "print(list.is_empty())\n",
        "for i in range(1, 10):\n",
        "  link.insert(i)\n",
        "print(list.is_empty()) \n",
        "link.printList()\n",
        "link.delete()\n",
        "link.printList()"
      ],
      "execution_count": null,
      "outputs": [
        {
          "output_type": "stream",
          "text": [
            "False\n",
            "False\n",
            "HEAD::<1> <2> <3> <4> <5> <6> <7> <8> <9>\n",
            "리스트에서  1 데이터를 삭제하였습니다.\n",
            "HEAD::<2> <3> <4> <5> <6> <7> <8> <9>\n"
          ],
          "name": "stdout"
        }
      ]
    }
  ]
}